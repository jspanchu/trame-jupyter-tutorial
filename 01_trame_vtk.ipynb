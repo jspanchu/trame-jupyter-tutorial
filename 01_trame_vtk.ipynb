{
 "cells": [
  {
   "cell_type": "markdown",
   "id": "96ccbe3a-4c72-4bdc-bebf-8a8e15005f7c",
   "metadata": {},
   "source": [
    "## Using VTK/PyVista and trame"
   ]
  },
  {
   "cell_type": "markdown",
   "id": "75a03a87",
   "metadata": {},
   "source": [
    "In this application, we will connect a VTK filter with PyVista. It will use Trame to visualize the results and interactively control parameters of the VTK filter."
   ]
  },
  {
   "cell_type": "code",
   "execution_count": 13,
   "id": "dc8a76b1-92cd-4973-8258-9461ed915843",
   "metadata": {},
   "outputs": [
    {
     "data": {
      "application/vnd.jupyter.widget-view+json": {
       "model_id": "45476e32c4ac42eeb99dbc62ffc1785b",
       "version_major": 2,
       "version_minor": 0
      },
      "text/plain": [
       "HTML(value='<iframe id=\"trame_vtk_example_trame__template_main\" src=\"http://localhost:8888/trame-jupyter-serve…"
      ]
     },
     "metadata": {},
     "output_type": "display_data"
    }
   ],
   "source": [
    "import pyvista as pv\n",
    "from pyvista import examples\n",
    "\n",
    "from vtkmodules.vtkFiltersGeneral import vtkWarpScalar\n",
    "\n",
    "from trame.app import get_server\n",
    "from trame.ui.vuetify3 import VAppLayout\n",
    "from trame.widgets import vuetify3 as v3, vtk as vtk_widgets\n",
    "\n",
    "mesh = examples.load_random_hills()\n",
    "warp_by_scalar = vtkWarpScalar()\n",
    "warp_by_scalar.SetInputData(mesh)\n",
    "warp_by_scalar.SetScaleFactor(0.3)\n",
    "\n",
    "plotter = pv.Plotter()\n",
    "actor = plotter.add_mesh(warp_by_scalar)\n",
    "\n",
    "# Trame server setup\n",
    "server = get_server(\"trame_vtk_example\")\n",
    "state, ctrl = server.state, server.controller\n",
    "\n",
    "@state.change(\"scale\")\n",
    "def update_scale(scale, **kwargs):\n",
    "    warp_by_scalar.SetScaleFactor(scale)\n",
    "    print(f\"update scale {scale=}\")\n",
    "    ctrl.view_update()\n",
    "\n",
    "with VAppLayout(server, full_height=True) as layout:\n",
    "    with v3.VContainer(fluid=True, classes=\"fill-height\"):\n",
    "        with vtk_widgets.VtkRemoteView(plotter.render_window, interactive_ratio=1) as view:\n",
    "            ctrl.view_update = view.update\n",
    "            ctrl.view_reset_camera = view.reset_camera\n",
    "\n",
    "        # Event binding\n",
    "        v3.VBtn(\n",
    "            icon=\"mdi-crop-free\", \n",
    "            click=ctrl.view_reset_camera, \n",
    "            classes=\"position-absolute\",\n",
    "            style=\"left: 1rem; top: 1rem; z-index: 1\",\n",
    "            density=\"compact\",\n",
    "        )\n",
    "\n",
    "        # State binding\n",
    "        v3.VSlider(\n",
    "            v_model=(\"scale\", 0.3),\n",
    "            min=0,\n",
    "            max=0.5,\n",
    "            step=0.01,\n",
    "            density=\"compact\",\n",
    "            classes=\"position-absolute\",\n",
    "            style=\"right: 1rem; top: 1rem; width: 400px; z-index: 1\",\n",
    "        )\n",
    "\n",
    "# Make sure the app is running and ready\n",
    "await layout.ready\n",
    "# Show UI in result\n",
    "layout\n"
   ]
  },
  {
   "cell_type": "code",
   "execution_count": null,
   "id": "1fe9933c-cbd9-4c39-8044-d3e1025ce8ed",
   "metadata": {},
   "outputs": [],
   "source": []
  }
 ],
 "metadata": {
  "kernelspec": {
   "display_name": "Python 3 (ipykernel)",
   "language": "python",
   "name": "python3"
  },
  "language_info": {
   "codemirror_mode": {
    "name": "ipython",
    "version": 3
   },
   "file_extension": ".py",
   "mimetype": "text/x-python",
   "name": "python",
   "nbconvert_exporter": "python",
   "pygments_lexer": "ipython3",
   "version": "3.10.12"
  }
 },
 "nbformat": 4,
 "nbformat_minor": 5
}
