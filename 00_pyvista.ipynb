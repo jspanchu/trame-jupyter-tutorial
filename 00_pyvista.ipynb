{
 "cells": [
  {
   "cell_type": "markdown",
   "id": "517215c4-6e44-419e-a5bb-1fef1fadda46",
   "metadata": {},
   "source": [
    "## Getting started with PyVista and Trame"
   ]
  },
  {
   "cell_type": "code",
   "execution_count": null,
   "id": "d22b6653-3c1d-48cf-beaf-5d3f31c9247c",
   "metadata": {},
   "outputs": [],
   "source": [
    "import pyvista as pv\n",
    "from pyvista import examples\n",
    "\n",
    "dataset = examples.download_lucy()\n",
    "dataset.plot(smooth_shading=True, color='white')"
   ]
  },
  {
   "cell_type": "markdown",
   "id": "4898f2a8-f4fa-4fcf-a673-dec6e1e44dab",
   "metadata": {},
   "source": [
    "PyVista's Jupyter backend is powered by **Trame**. So by default you are using trame without knowing it. \n",
    "\n",
    "By default PyVista is serving you a micro trame application that let you toggle between **Remote** and **Local** rendering along with some various options to configure your visualization.\n",
    "\n",
    "**First try the Remote/Local rendering toggle and notice the differences** \n",
    "\n",
    "| ![Remote rendering](./docs/icon-remote.png) | ![Local rendering](./docs/icon-local.png) |\n",
    "| --- | --- |\n",
    "| ![remote-rendering](./docs/pyvista-local-rendering.png) | ![local-rendering](./docs/pyvista-local-rendering.png) |\n",
    "\n",
    "<div class=\"alert alert-block alert-info\">\n",
    "Look at the orientation axis between the 2 rendering modes.\n",
    "</div>\n",
    "\n",
    "One sends images generated on the server side while the other is sending geometry to vtk.js.\n"
   ]
  },
  {
   "cell_type": "markdown",
   "id": "6c2ff428-bc60-4fd0-a7ed-a22e0f58498f",
   "metadata": {},
   "source": [
    "## Building applications with PyVista and Trame"
   ]
  },
  {
   "cell_type": "markdown",
   "id": "4799c894",
   "metadata": {},
   "source": [
    "Now, let's build a simple application that updates the mesh color with the click of a button."
   ]
  },
  {
   "cell_type": "code",
   "execution_count": null,
   "id": "7b1845df-ea3c-47e1-989b-ac964f5e04dc",
   "metadata": {},
   "outputs": [],
   "source": [
    "import random \n",
    "\n",
    "from pyvista.trame.ui import get_viewer\n",
    "from pyvista.plotting.colors import hexcolors\n",
    "\n",
    "from trame.ui.vuetify3 import SinglePageLayout\n",
    "from trame.widgets import vuetify3 as v3\n",
    "\n",
    "plotter = pv.Plotter()\n",
    "actor = plotter.add_mesh(dataset)\n",
    "viewer = get_viewer(plotter)\n",
    "print(viewer)\n",
    "view = None\n",
    "\n",
    "def change_color():\n",
    "    actor.prop.color = random.choice(list(hexcolors.keys()))\n",
    "    view.update()\n",
    "\n",
    "# Create UI\n",
    "with SinglePageLayout(viewer.server) as layout:\n",
    "    with layout.toolbar.clear() as tb:\n",
    "        tb.density = \"compact\"\n",
    "        tb.theme = \"dark\"\n",
    "        viewer.ui_controls(mode='trame')\n",
    "        v3.VBtn(icon=\"mdi-palette\", click=change_color)\n",
    "    with layout.content:\n",
    "        view = viewer.ui(add_menu=False, mode='trame')\n",
    "        \n",
    "\n",
    "# Show UI\n",
    "await layout.ready\n",
    "layout"
   ]
  },
  {
   "cell_type": "code",
   "execution_count": null,
   "id": "688fd1bc-2115-4977-b948-68f2d2d19aba",
   "metadata": {},
   "outputs": [],
   "source": []
  }
 ],
 "metadata": {
  "kernelspec": {
   "display_name": "Python 3 (ipykernel)",
   "language": "python",
   "name": "python3"
  },
  "language_info": {
   "codemirror_mode": {
    "name": "ipython",
    "version": 3
   },
   "file_extension": ".py",
   "mimetype": "text/x-python",
   "name": "python",
   "nbconvert_exporter": "python",
   "pygments_lexer": "ipython3",
   "version": "3.10.14"
  }
 },
 "nbformat": 4,
 "nbformat_minor": 5
}
