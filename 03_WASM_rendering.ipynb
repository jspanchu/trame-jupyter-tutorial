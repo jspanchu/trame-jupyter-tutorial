{
 "cells": [
  {
   "cell_type": "markdown",
   "id": "fb18244f-ec71-4356-9928-c010aaa207aa",
   "metadata": {},
   "source": [
    "## Use WASM local rendering"
   ]
  },
  {
   "cell_type": "code",
   "execution_count": 1,
   "id": "bd90a801-9b88-482d-bf73-4af2f0c34b2d",
   "metadata": {},
   "outputs": [],
   "source": [
    "from trame.app import get_server\n",
    "from trame.ui.vuetify3 import SinglePageLayout\n",
    "from trame.widgets import vuetify3 as vuetify\n",
    "from trame.widgets.vtk import VtkRemoteView\n",
    "from trame_vtklocal.widgets import vtklocal\n",
    "from trame.decorators import TrameApp, change\n",
    "\n",
    "from vtkmodules.vtkCommonColor import vtkNamedColors\n",
    "from vtkmodules.vtkFiltersCore import vtkElevationFilter, vtkGlyph3D\n",
    "from vtkmodules.vtkFiltersSources import vtkConeSource, vtkCubeSource, vtkSphereSource\n",
    "from vtkmodules.vtkImagingCore import vtkRTAnalyticSource\n",
    "from vtkmodules.vtkImagingGeneral import vtkImageGradient\n",
    "from vtkmodules.vtkRenderingCore import (\n",
    "    vtkActor,\n",
    "    vtkPolyDataMapper,\n",
    "    vtkRenderWindow,\n",
    "    vtkRenderWindowInteractor,\n",
    "    vtkRenderer,\n",
    ")\n",
    "\n",
    "# Required for vtk factory\n",
    "import vtkmodules.vtkRenderingOpenGL2  # noqa\n",
    "from vtkmodules.vtkInteractionStyle import vtkInteractorStyleSwitch  # noqa\n"
   ]
  },
  {
   "cell_type": "code",
   "execution_count": 2,
   "id": "397d31ae-eb29-4783-9df0-e2712e69e207",
   "metadata": {},
   "outputs": [],
   "source": [
    "def setup_vtk():\n",
    "    colors = vtkNamedColors()\n",
    "\n",
    "    # The Wavelet Source is nice for generating a test vtkImageData set\n",
    "    rt = vtkRTAnalyticSource()\n",
    "    rt.SetWholeExtent(-2, 2, -2, 2, 0, 0)\n",
    "\n",
    "    # Take the gradient of the only scalar 'RTData' to get a vector attribute\n",
    "    grad = vtkImageGradient()\n",
    "    grad.SetDimensionality(3)\n",
    "    grad.SetInputConnection(rt.GetOutputPort())\n",
    "\n",
    "    # Elevation just to generate another scalar attribute that varies nicely over the data range\n",
    "    elev = vtkElevationFilter()\n",
    "    # Elevation values will range from 0 to 1 between the Low and High Points\n",
    "    elev.SetLowPoint(-2, -2, 0)\n",
    "    elev.SetHighPoint(2, 2, 0)\n",
    "    elev.SetInputConnection(grad.GetOutputPort())\n",
    "\n",
    "    # Create simple PolyData for glyph table\n",
    "    cs = vtkCubeSource()\n",
    "    cs.SetXLength(0.5)\n",
    "    cs.SetYLength(1)\n",
    "    cs.SetZLength(2)\n",
    "    ss = vtkSphereSource()\n",
    "    ss.SetRadius(0.25)\n",
    "    cs2 = vtkConeSource()\n",
    "    cs2.SetRadius(0.25)\n",
    "    cs2.SetHeight(0.5)\n",
    "\n",
    "    # Set up the glyph filter\n",
    "    glyph = vtkGlyph3D()\n",
    "    glyph.SetInputConnection(elev.GetOutputPort())\n",
    "\n",
    "    # Here is where we build the glyph table\n",
    "    # that will be indexed into according to the IndexMode\n",
    "    glyph.SetSourceConnection(0, cs.GetOutputPort())\n",
    "    glyph.SetSourceConnection(1, ss.GetOutputPort())\n",
    "    glyph.SetSourceConnection(2, cs2.GetOutputPort())\n",
    "\n",
    "    glyph.ScalingOn()\n",
    "    glyph.SetScaleModeToScaleByScalar()\n",
    "    glyph.SetVectorModeToUseVector()\n",
    "    glyph.OrientOn()\n",
    "    glyph.SetScaleFactor(1)  # Overall scaling factor\n",
    "    glyph.SetRange(0, 1)  # Default is (0,1)\n",
    "\n",
    "    # Tell it to index into the glyph table according to scalars\n",
    "    glyph.SetIndexModeToScalar()\n",
    "\n",
    "    # Tell glyph which attribute arrays to use for what\n",
    "    glyph.SetInputArrayToProcess(0, 0, 0, 0, \"Elevation\")  # scalars\n",
    "    glyph.SetInputArrayToProcess(1, 0, 0, 0, \"RTDataGradient\")  # vectors\n",
    "\n",
    "    coloring_by = \"Elevation\"\n",
    "    mapper = vtkPolyDataMapper()\n",
    "    mapper.SetInputConnection(glyph.GetOutputPort())\n",
    "    mapper.SetScalarModeToUsePointFieldData()\n",
    "    mapper.SetColorModeToMapScalars()\n",
    "    mapper.ScalarVisibilityOn()\n",
    "\n",
    "    # GetRange() call doesn't work because attributes weren't copied to glyphs\n",
    "    # as they should have been...\n",
    "    # mapper.SetScalarRange(glyph.GetOutputDataObject(0).GetPointData().GetArray(coloring_by).GetRange())\n",
    "\n",
    "    mapper.SelectColorArray(coloring_by)\n",
    "    actor = vtkActor()\n",
    "    actor.SetMapper(mapper)\n",
    "\n",
    "    ren = vtkRenderer()\n",
    "    ren.AddActor(actor)\n",
    "    ren.SetBackground(colors.GetColor3d(\"DarkGray\"))\n",
    "\n",
    "    renWin = vtkRenderWindow()\n",
    "    renWin.AddRenderer(ren)\n",
    "\n",
    "    renderWindowInteractor = vtkRenderWindowInteractor()\n",
    "    renderWindowInteractor.SetRenderWindow(renWin)\n",
    "    renderWindowInteractor.GetInteractorStyle().SetCurrentStyleToTrackballCamera()\n",
    "\n",
    "    ren.ResetCamera()\n",
    "\n",
    "    return renWin, ren, cs2, ss\n"
   ]
  },
  {
   "cell_type": "code",
   "execution_count": 3,
   "id": "578b7a8e-23d0-42f0-89ca-57cf61bc555c",
   "metadata": {},
   "outputs": [],
   "source": [
    "@TrameApp()\n",
    "class App:\n",
    "    def __init__(self, server=None):\n",
    "        self.server = get_server(server, client_type=\"vue3\")\n",
    "        self.render_window, self.renderer, self.cone, self.sphere = setup_vtk()\n",
    "        self.view_local = None\n",
    "        self.view_remote = None\n",
    "        self.ui = self._build_ui()\n",
    "\n",
    "    @property\n",
    "    def ctrl(self):\n",
    "        return self.server.controller\n",
    "\n",
    "    @change(\"resolution\")\n",
    "    def on_resolution_change(self, resolution, **kwargs):\n",
    "        self.cone.SetResolution(int(resolution))\n",
    "        self.sphere.SetStartTheta(int(resolution) * 6)\n",
    "        self.view_remote.update()\n",
    "        self.view_local.update()\n",
    "\n",
    "    def reset_camera(self):\n",
    "        self.renderer.ResetCamera()\n",
    "        self.view_local.update()\n",
    "        self.view_remote.update()\n",
    "\n",
    "    def _build_ui(self):\n",
    "        with SinglePageLayout(self.server) as layout:\n",
    "            layout.icon.click = self.reset_camera\n",
    "            with layout.toolbar:\n",
    "                vuetify.VSpacer()\n",
    "                vuetify.VSlider(\n",
    "                    v_model=(\"resolution\", 6),\n",
    "                    min=3,\n",
    "                    max=60,\n",
    "                    step=1,\n",
    "                    dense=True,\n",
    "                    hide_details=True,\n",
    "                )\n",
    "                vuetify.VBtn(\"Update\", click=self.ctrl.view_update)\n",
    "\n",
    "            with layout.content:\n",
    "                with vuetify.VContainer(\n",
    "                    fluid=True,\n",
    "                    classes=\"pa-0 fill-height\",\n",
    "                ):\n",
    "                    with vuetify.VContainer(\n",
    "                        fluid=True, classes=\"pa-0 fill-height\", style=\"width: 50%;\"\n",
    "                    ):\n",
    "                        self.view_local = vtklocal.LocalView(\n",
    "                            self.render_window,\n",
    "                            eager_sync=True,\n",
    "                        )\n",
    "                        self.ctrl.view_update = self.view_local.update\n",
    "                    with vuetify.VContainer(\n",
    "                        fluid=True, classes=\"pa-0 fill-height\", style=\"width: 50%;\"\n",
    "                    ):\n",
    "                        self.view_remote = VtkRemoteView(\n",
    "                            self.render_window, interactive_ratio=1\n",
    "                        )\n",
    "\n",
    "            # hide footer\n",
    "            layout.footer.hide()\n",
    "\n",
    "            return layout"
   ]
  },
  {
   "cell_type": "code",
   "execution_count": 4,
   "id": "ddb6b1c9-12a5-42a3-a8b4-00f9ef96bf93",
   "metadata": {},
   "outputs": [
    {
     "data": {
      "text/plain": [
       "True"
      ]
     },
     "execution_count": 4,
     "metadata": {},
     "output_type": "execute_result"
    }
   ],
   "source": [
    "app = App(\"wasm\")\n",
    "await app.ui.ready"
   ]
  },
  {
   "cell_type": "code",
   "execution_count": 5,
   "id": "005e86b9-cc19-448b-8d60-5589e13e936a",
   "metadata": {},
   "outputs": [],
   "source": [
    "# Make sure to give room for the download of WASM bundle\n",
    "# Only needed at first execution\n",
    "import asyncio\n",
    "await asyncio.sleep(1) "
   ]
  },
  {
   "cell_type": "code",
   "execution_count": 6,
   "id": "e8b135f6-bb11-437d-8560-15f6e6b23afe",
   "metadata": {},
   "outputs": [
    {
     "data": {
      "application/vnd.jupyter.widget-view+json": {
       "model_id": "568fe50b71504b9caa60a66165b641e8",
       "version_major": 2,
       "version_minor": 0
      },
      "text/plain": [
       "HTML(value='<iframe id=\"wasm_trame__template_main\" src=\"http://localhost:8888/trame-jupyter-server/servers/was…"
      ]
     },
     "metadata": {},
     "output_type": "display_data"
    }
   ],
   "source": [
    "app.ui"
   ]
  },
  {
   "cell_type": "code",
   "execution_count": null,
   "id": "42cae492-0452-48b3-b227-e3e0fb132c9d",
   "metadata": {},
   "outputs": [],
   "source": []
  }
 ],
 "metadata": {
  "kernelspec": {
   "display_name": "Python 3 (ipykernel)",
   "language": "python",
   "name": "python3"
  },
  "language_info": {
   "codemirror_mode": {
    "name": "ipython",
    "version": 3
   },
   "file_extension": ".py",
   "mimetype": "text/x-python",
   "name": "python",
   "nbconvert_exporter": "python",
   "pygments_lexer": "ipython3",
   "version": "3.10.14"
  }
 },
 "nbformat": 4,
 "nbformat_minor": 5
}
