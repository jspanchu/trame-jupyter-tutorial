{
 "cells": [
  {
   "cell_type": "markdown",
   "id": "85401b73-1cb7-442f-890a-a691d3bbc009",
   "metadata": {},
   "source": [
    "## Using an existing app"
   ]
  },
  {
   "cell_type": "code",
   "execution_count": null,
   "id": "49159dad-ce6c-49f5-8345-66831458b1d5",
   "metadata": {},
   "outputs": [],
   "source": [
    "from trame.app.demo import Cone\n",
    "\n",
    "app = Cone(\"demo\")\n",
    "await app.ui.ready\n",
    "app.ui"
   ]
  },
  {
   "cell_type": "markdown",
   "id": "ecce2358-d0c3-4813-a3a7-1bd844cd0e3d",
   "metadata": {},
   "source": [
    "## Pan3D"
   ]
  },
  {
   "cell_type": "code",
   "execution_count": 2,
   "id": "f474ff39-3f5b-40cf-ae68-5b69f29d1b81",
   "metadata": {},
   "outputs": [
    {
     "ename": "CancelledError",
     "evalue": "",
     "output_type": "error",
     "traceback": [
      "\u001b[0;31m---------------------------------------------------------------------------\u001b[0m",
      "\u001b[0;31mCancelledError\u001b[0m                            Traceback (most recent call last)",
      "Cell \u001b[0;32mIn[2], line 8\u001b[0m\n\u001b[1;32m      5\u001b[0m builder\u001b[38;5;241m.\u001b[39mimport_config(\u001b[38;5;124m'\u001b[39m\u001b[38;5;124mexample_config_xarray.json\u001b[39m\u001b[38;5;124m'\u001b[39m)\n\u001b[1;32m      7\u001b[0m \u001b[38;5;66;03m# Show viewer in cell output\u001b[39;00m\n\u001b[0;32m----> 8\u001b[0m \u001b[38;5;28;01mawait\u001b[39;00m builder\u001b[38;5;241m.\u001b[39mviewer\u001b[38;5;241m.\u001b[39mready\n\u001b[1;32m      9\u001b[0m builder\u001b[38;5;241m.\u001b[39mviewer\u001b[38;5;241m.\u001b[39mui\n",
      "File \u001b[0;32m~/Desktop/trame-jupyter-tutorial/.venv/lib/python3.10/site-packages/pan3d/dataset_viewer.py:103\u001b[0m, in \u001b[0;36mDatasetViewer.ready\u001b[0;34m(self)\u001b[0m\n\u001b[1;32m    100\u001b[0m \u001b[38;5;129m@property\u001b[39m\n\u001b[1;32m    101\u001b[0m \u001b[38;5;28;01masync\u001b[39;00m \u001b[38;5;28;01mdef\u001b[39;00m \u001b[38;5;21mready\u001b[39m(\u001b[38;5;28mself\u001b[39m) \u001b[38;5;241m-\u001b[39m\u001b[38;5;241m>\u001b[39m \u001b[38;5;28;01mNone\u001b[39;00m:\n\u001b[1;32m    102\u001b[0m \u001b[38;5;250m    \u001b[39m\u001b[38;5;124;03m\"\"\"Coroutine to wait for the Viewer server to be ready.\"\"\"\u001b[39;00m\n\u001b[0;32m--> 103\u001b[0m     \u001b[38;5;28;01mawait\u001b[39;00m \u001b[38;5;28mself\u001b[39m\u001b[38;5;241m.\u001b[39mui\u001b[38;5;241m.\u001b[39mready\n",
      "\u001b[0;31mCancelledError\u001b[0m: "
     ]
    }
   ],
   "source": [
    "from pan3d import DatasetBuilder\n",
    "\n",
    "builder = DatasetBuilder(viewer=True)\n",
    "\n",
    "builder.import_config('example_config_xarray.json')\n",
    "\n",
    "# Show viewer in cell output\n",
    "await builder.viewer.ready\n",
    "builder.viewer.ui"
   ]
  }
 ],
 "metadata": {
  "kernelspec": {
   "display_name": "Python 3 (ipykernel)",
   "language": "python",
   "name": "python3"
  },
  "language_info": {
   "codemirror_mode": {
    "name": "ipython",
    "version": 3
   },
   "file_extension": ".py",
   "mimetype": "text/x-python",
   "name": "python",
   "nbconvert_exporter": "python",
   "pygments_lexer": "ipython3",
   "version": "3.10.14"
  }
 },
 "nbformat": 4,
 "nbformat_minor": 5
}
