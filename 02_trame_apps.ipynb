{
 "cells": [
  {
   "cell_type": "markdown",
   "id": "85401b73-1cb7-442f-890a-a691d3bbc009",
   "metadata": {},
   "source": [
    "## Using an existing app"
   ]
  },
  {
   "cell_type": "code",
   "execution_count": null,
   "id": "49159dad-ce6c-49f5-8345-66831458b1d5",
   "metadata": {},
   "outputs": [],
   "source": [
    "from trame.app.demo import Cone\n",
    "\n",
    "app = Cone(\"demo\")\n",
    "await app.ui.ready\n",
    "app.ui"
   ]
  },
  {
   "cell_type": "markdown",
   "id": "ecce2358-d0c3-4813-a3a7-1bd844cd0e3d",
   "metadata": {},
   "source": [
    "## Pan3D"
   ]
  },
  {
   "cell_type": "code",
   "execution_count": null,
   "id": "f474ff39-3f5b-40cf-ae68-5b69f29d1b81",
   "metadata": {},
   "outputs": [],
   "source": [
    "from pan3d import DatasetBuilder\n",
    "\n",
    "builder = DatasetBuilder(viewer=True)\n",
    "\n",
    "builder.import_config('example_config_xarray.json')\n",
    "\n",
    "# Show viewer in cell output\n",
    "await builder.viewer.ready\n",
    "builder.viewer.ui"
   ]
  },
  {
   "cell_type": "code",
   "execution_count": null,
   "id": "f3b8e1c3-f1de-4a68-9aa1-03582262372d",
   "metadata": {},
   "outputs": [],
   "source": []
  },
  {
   "cell_type": "code",
   "execution_count": null,
   "id": "9c3bb51e-52e8-4a1d-98b7-d889c7800a02",
   "metadata": {},
   "outputs": [],
   "source": []
  }
 ],
 "metadata": {
  "kernelspec": {
   "display_name": "Python 3 (ipykernel)",
   "language": "python",
   "name": "python3"
  },
  "language_info": {
   "codemirror_mode": {
    "name": "ipython",
    "version": 3
   },
   "file_extension": ".py",
   "mimetype": "text/x-python",
   "name": "python",
   "nbconvert_exporter": "python",
   "pygments_lexer": "ipython3",
   "version": "3.10.12"
  }
 },
 "nbformat": 4,
 "nbformat_minor": 5
}
