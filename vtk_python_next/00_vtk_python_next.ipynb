{
 "cells": [
  {
   "cell_type": "code",
   "execution_count": 1,
   "id": "830b15bb-7d86-4070-9c82-ee629cbf2932",
   "metadata": {},
   "outputs": [],
   "source": [
    "from vtkmodules.vtkRenderingCore import (\n",
    "    vtkActor, vtkLightKit, vtkCompositePolyDataMapper,\n",
    "    vtkPolyDataMapper, vtkRenderer, vtkRenderWindow,\n",
    "    vtkRenderWindowInteractor)\n",
    "\n",
    "# for factory overrides\n",
    "import vtkmodules.vtkRenderingOpenGL2\n",
    "import vtkmodules.vtkRenderingUI\n",
    "import vtkmodules.vtkInteractionStyle\n",
    "\n",
    "# Creates a render window interactor, connects it to a render window.\n",
    "# Switch the interactor style such that left mouse click and drag orbit the camera\n",
    "# around the camera's focal point.\n",
    "interactor = vtkRenderWindowInteractor()\n",
    "interactor.interactor_style.SetCurrentStyleToTrackballCamera()\n",
    "\n",
    "window = vtkRenderWindow(size=(1280, 720), interactor=interactor)\n",
    "\n",
    "renderer = vtkRenderer(automatic_light_creation=False, background=(1.0, 1.0, 1.0))\n",
    "window.AddRenderer(renderer)\n",
    "\n",
    "# Uses light kit for better lit scenes than the default in VTK.\n",
    "light_kit = vtkLightKit()\n",
    "light_kit.AddLightsToRenderer(renderer)"
   ]
  },
  {
   "cell_type": "code",
   "execution_count": 2,
   "id": "42ddb139-d449-497c-abfe-bb4c40e46d32",
   "metadata": {},
   "outputs": [],
   "source": [
    "# Load input mesh from a vtkPartitionedDataSetCollection file\n",
    "from vtkmodules.vtkIOXML import vtkXMLPartitionedDataSetCollectionReader\n",
    "\n",
    "reader = vtkXMLPartitionedDataSetCollectionReader()\n",
    "reader.file_name = \"data/mesh.vtpc\"\n",
    "reader.Update()\n",
    "reactor = reader.output\n",
    "\n",
    "actor = vtkActor()\n",
    "actor.mapper = (reactor >> vtkCompositePolyDataMapper()).last\n",
    "# Make the toroid translucent so we can look at objects inside it.\n",
    "actor.property.opacity = 0.2\n",
    "renderer.AddActor(actor)"
   ]
  },
  {
   "cell_type": "code",
   "execution_count": 4,
   "id": "67964a2a-42a6-4ef7-8343-a6afbf25bd80",
   "metadata": {},
   "outputs": [],
   "source": [
    "# Construct magpy coil objects for each coil in the reactor mesh.\n",
    "from utils.build_magnetic_coils import build_magnetic_coils\n",
    "coils = build_magnetic_coils(reactor, current=1000)"
   ]
  },
  {
   "cell_type": "code",
   "execution_count": 5,
   "id": "e943d473-22f9-4ce4-a04b-81846181aeeb",
   "metadata": {},
   "outputs": [],
   "source": [
    "# Compute B, H in a 32x32x32 grid\n",
    "from vtkmodules.vtkCommonDataModel import vtkImageData\n",
    "from vtkmodules.util.numpy_support import numpy_to_vtk, vtk_to_numpy\n",
    "\n",
    "grid = vtkImageData(extent=(-16, 16, -16, 16, -16, 16), spacing=(0.1, 0.1, 0.1))\n",
    "grid_points = vtk_to_numpy(grid.points.data)\n",
    "b = coils.getB(grid_points) * 1000\n",
    "grid.point_data.set_array(\"B (mT)\", b)\n",
    "h = coils.getH(grid_points)\n",
    "grid.point_data.set_array(\"H (A/m)\", h)"
   ]
  },
  {
   "cell_type": "code",
   "execution_count": null,
   "id": "f2765d5a-4f3d-41cc-a097-ea45bab9472f",
   "metadata": {},
   "outputs": [],
   "source": [
    "# Show coils\n",
    "import magpylib as magpy\n",
    "from utils.save_dataset import save_dataset\n",
    "\n",
    "magpy.show(coils, arrow=True)\n",
    "save_dataset(grid, \"data/solution.vti\")"
   ]
  },
  {
   "cell_type": "code",
   "execution_count": null,
   "id": "d680f722-dfa3-47db-9bd2-9b72b9dacd1e",
   "metadata": {},
   "outputs": [],
   "source": [
    "# Compute streamlines of B field induced by toroidal coils.\n",
    "from vtkmodules.vtkFiltersSources import vtkSphereSource\n",
    "from vtkmodules.vtkFiltersFlowPaths import vtkStreamTracer\n",
    "from vtkmodules.util.execution_model import select_ports\n",
    "\n",
    "trace_streamlines = vtkStreamTracer(integrator_type=vtkStreamTracer.RUNGE_KUTTA45, integration_direction=vtkStreamTracer.BOTH, initial_integration_step=0.2, maximum_propagation=3.2)\n",
    "trace_streamlines.SetInputArrayToProcess(0, 0, 0, 0, \"B (mT)\")\n",
    "\n",
    "create_sphere = vtkSphereSource(theta_resolution=16)\n",
    "\n",
    "grid >> select_ports(0, trace_streamlines)\n",
    "create_sphere >> select_ports(1, trace_streamlines)"
   ]
  },
  {
   "cell_type": "code",
   "execution_count": 8,
   "id": "9282d245-6f27-4178-82cd-d3008b5f53b6",
   "metadata": {},
   "outputs": [],
   "source": [
    "# Visualize streamlines\n",
    "from vtkmodules.vtkFiltersCore import vtkTubeFilter\n",
    "\n",
    "actor = vtkActor()\n",
    "actor.mapper = (trace_streamlines >> vtkTubeFilter(number_of_sides=3, radius=0.00383538) >> vtkPolyDataMapper()).last\n",
    "renderer.AddActor(actor)"
   ]
  },
  {
   "cell_type": "code",
   "execution_count": 9,
   "id": "81c0ae93-b5a3-4170-9546-306acc7b74a5",
   "metadata": {},
   "outputs": [],
   "source": [
    "# Animate the disk position such that it oscillates between y=-1 and y=1.\n",
    "from itertools import cycle\n",
    "import numpy as np\n",
    "\n",
    "class vtkTimerCallback():\n",
    "    def __init__(self, sphere, window, nsteps=10):\n",
    "        half_nsteps = int(nsteps / 2)\n",
    "        self.radii = cycle(np.append(np.linspace(0, 0.8, half_nsteps), np.linspace(0.8, 0, half_nsteps)))\n",
    "        self.sphere = sphere\n",
    "        self.window = window\n",
    "\n",
    "    def execute(self, obj, event):\n",
    "        self.sphere.radius = next(self.radii)\n",
    "        self.window.Render()\n"
   ]
  },
  {
   "cell_type": "code",
   "execution_count": 10,
   "id": "33e47b34-5fa8-41fe-bb61-f5699ab9a0af",
   "metadata": {},
   "outputs": [],
   "source": [
    "# Sign up to receive TimerEvent\n",
    "\n",
    "cb = vtkTimerCallback(create_sphere, window, nsteps=250)\n",
    "interactor.RemoveObservers('TimerEvent')\n",
    "interactor.AddObserver('TimerEvent', cb.execute)\n",
    "cb.timerId = interactor.CreateRepeatingTimer(2)\n",
    "\n",
    "renderer.ResetCamera()\n",
    "window.Render()\n",
    "interactor.Start()\n"
   ]
  },
  {
   "cell_type": "code",
   "execution_count": null,
   "id": "7349f312-23e3-433f-a094-dba625966fc7",
   "metadata": {},
   "outputs": [],
   "source": []
  }
 ],
 "metadata": {
  "kernelspec": {
   "display_name": "Python 3 (ipykernel)",
   "language": "python",
   "name": "python3"
  },
  "language_info": {
   "codemirror_mode": {
    "name": "ipython",
    "version": 3
   },
   "file_extension": ".py",
   "mimetype": "text/x-python",
   "name": "python",
   "nbconvert_exporter": "python",
   "pygments_lexer": "ipython3",
   "version": "3.10.12"
  }
 },
 "nbformat": 4,
 "nbformat_minor": 5
}
